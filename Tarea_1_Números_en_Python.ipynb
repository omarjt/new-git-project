{
  "nbformat": 4,
  "nbformat_minor": 0,
  "metadata": {
    "colab": {
      "name": "Tarea 1 - Números en Python.ipynb",
      "provenance": [],
      "authorship_tag": "ABX9TyNNuK7USrrkpFiKrKVkPKqR",
      "include_colab_link": true
    },
    "kernelspec": {
      "name": "python3",
      "display_name": "Python 3"
    },
    "language_info": {
      "name": "python"
    }
  },
  "cells": [
    {
      "cell_type": "markdown",
      "metadata": {
        "id": "view-in-github",
        "colab_type": "text"
      },
      "source": [
        "<a href=\"https://colab.research.google.com/github/omarjt/new-git-project/blob/master/Tarea_1_N%C3%BAmeros_en_Python.ipynb\" target=\"_parent\"><img src=\"https://colab.research.google.com/assets/colab-badge.svg\" alt=\"Open In Colab\"/></a>"
      ]
    },
    {
      "cell_type": "markdown",
      "metadata": {
        "id": "BMYijKbSjLZb"
      },
      "source": [
        "## Ejercicio 1\n",
        "### Calcula la división entera de 45 entre 6"
      ]
    },
    {
      "cell_type": "code",
      "metadata": {
        "colab": {
          "base_uri": "https://localhost:8080/"
        },
        "id": "I-T-wFx7jWMg",
        "outputId": "a16cb9aa-d427-4a38-ef96-b49c287c2d1e"
      },
      "source": [
        "45//6"
      ],
      "execution_count": 2,
      "outputs": [
        {
          "output_type": "execute_result",
          "data": {
            "text/plain": [
              "7"
            ]
          },
          "metadata": {
            "tags": []
          },
          "execution_count": 2
        }
      ]
    },
    {
      "cell_type": "markdown",
      "metadata": {
        "id": "f1VZIPlZjdJ4"
      },
      "source": [
        "## Ejercicio 2\n",
        "### Calcula el resto de la división entera de 45 entre 6"
      ]
    },
    {
      "cell_type": "code",
      "metadata": {
        "colab": {
          "base_uri": "https://localhost:8080/"
        },
        "id": "gKj36zERjoJj",
        "outputId": "095b1d00-5c76-44b9-c87e-a16bcdd53959"
      },
      "source": [
        "45%6"
      ],
      "execution_count": 3,
      "outputs": [
        {
          "output_type": "execute_result",
          "data": {
            "text/plain": [
              "3"
            ]
          },
          "metadata": {
            "tags": []
          },
          "execution_count": 3
        }
      ]
    },
    {
      "cell_type": "markdown",
      "metadata": {
        "id": "srEhE-bRjyEC"
      },
      "source": [
        "## Ejercicio 3\n",
        "### Realiza la siguiente operación en Python, donde ÷ indica la división entera:\n",
        "10 + 20 ÷ 7 − 2\n"
      ]
    },
    {
      "cell_type": "code",
      "metadata": {
        "colab": {
          "base_uri": "https://localhost:8080/"
        },
        "id": "_Tuc9q1Uj3El",
        "outputId": "3ea21482-0ba6-4a99-d071-89a65fb6c5c8"
      },
      "source": [
        "10 + 20 // 7 - 2"
      ],
      "execution_count": 4,
      "outputs": [
        {
          "output_type": "execute_result",
          "data": {
            "text/plain": [
              "10"
            ]
          },
          "metadata": {
            "tags": []
          },
          "execution_count": 4
        }
      ]
    },
    {
      "cell_type": "markdown",
      "metadata": {
        "id": "k2DIXe69kHQh"
      },
      "source": [
        "## Ejercicio 4\n",
        "### Realiza la siguiente operación en Python\n",
        "![ejercicio 3.png](data:image/png;base64,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)"
      ]
    },
    {
      "cell_type": "code",
      "metadata": {
        "colab": {
          "base_uri": "https://localhost:8080/"
        },
        "id": "rw9tZnnOk3wC",
        "outputId": "9c42ebf7-1c05-4aa0-f09d-2871c4644fab"
      },
      "source": [
        "(9 - (25+5-2)/7*4)/2**3"
      ],
      "execution_count": 5,
      "outputs": [
        {
          "output_type": "execute_result",
          "data": {
            "text/plain": [
              "-0.875"
            ]
          },
          "metadata": {
            "tags": []
          },
          "execution_count": 5
        }
      ]
    },
    {
      "cell_type": "markdown",
      "metadata": {
        "id": "mAyA_3phlRrE"
      },
      "source": [
        "## Ejercicio 5\n",
        "### Realiza la siguiente operación en Python:\n",
        "![image.png](data:image/png;base64,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)"
      ]
    },
    {
      "cell_type": "code",
      "metadata": {
        "colab": {
          "base_uri": "https://localhost:8080/"
        },
        "id": "KtHlXx-1lhi3",
        "outputId": "3c0a916c-76e8-40fb-89d1-817843e15abe"
      },
      "source": [
        "(2 + 2**3 - 2 * (2 - 2**5) + 2**2 *2 +2)/(2 * (2 * 2 - 2 **4) + 2**2)"
      ],
      "execution_count": 6,
      "outputs": [
        {
          "output_type": "execute_result",
          "data": {
            "text/plain": [
              "-4.0"
            ]
          },
          "metadata": {
            "tags": []
          },
          "execution_count": 6
        }
      ]
    },
    {
      "cell_type": "markdown",
      "metadata": {
        "id": "yXaaazEBmPco"
      },
      "source": [
        "## Ejercicio 6\n",
        "### Realiza la siguiente operación en Python:\n",
        "![image.png](data:image/png;base64,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)"
      ]
    },
    {
      "cell_type": "code",
      "metadata": {
        "colab": {
          "base_uri": "https://localhost:8080/"
        },
        "id": "jW02mxzzmaDR",
        "outputId": "47f703a5-b445-463b-a0a9-b0217fde4dce"
      },
      "source": [
        "6j - (4 + 1j) *2"
      ],
      "execution_count": 8,
      "outputs": [
        {
          "output_type": "execute_result",
          "data": {
            "text/plain": [
              "(-8+4j)"
            ]
          },
          "metadata": {
            "tags": []
          },
          "execution_count": 8
        }
      ]
    },
    {
      "cell_type": "markdown",
      "metadata": {
        "id": "UYkof1JnpyvE"
      },
      "source": [
        "## Ejercicio 7\n",
        "### Realiza la siguiente operación en Python:\n",
        "![image.png](data:image/png;base64,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)"
      ]
    },
    {
      "cell_type": "code",
      "metadata": {
        "colab": {
          "base_uri": "https://localhost:8080/"
        },
        "id": "OJwmKL6up_-g",
        "outputId": "be1e5e1c-4506-4dd7-9d16-44a311676503"
      },
      "source": [
        "((1 + 1j)/ 1 - 1j) + 2 /(-1 + 1j)"
      ],
      "execution_count": 9,
      "outputs": [
        {
          "output_type": "execute_result",
          "data": {
            "text/plain": [
              "-1j"
            ]
          },
          "metadata": {
            "tags": []
          },
          "execution_count": 9
        }
      ]
    },
    {
      "cell_type": "markdown",
      "metadata": {
        "id": "oPLtk_oDqToM"
      },
      "source": [
        "## Ejercicio 8\n",
        "### Realiza la siguiente operación en Python:\n",
        "![image.png](data:image/png;base64,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)"
      ]
    },
    {
      "cell_type": "code",
      "metadata": {
        "colab": {
          "base_uri": "https://localhost:8080/"
        },
        "id": "HI-rfwiCqe0I",
        "outputId": "941ec49a-b862-4ea1-9e41-b9dc135331b9"
      },
      "source": [
        "(1 + 1J)**2"
      ],
      "execution_count": 10,
      "outputs": [
        {
          "output_type": "execute_result",
          "data": {
            "text/plain": [
              "2j"
            ]
          },
          "metadata": {
            "tags": []
          },
          "execution_count": 10
        }
      ]
    },
    {
      "cell_type": "markdown",
      "metadata": {
        "id": "zWNDQpXbqmuT"
      },
      "source": [
        "## Ejercicio 9\n",
        "### Realiza la siguiente operación en Python, donde Mod(z) indica módulo del complejo z:\n",
        "![image.png](data:image/png;base64,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)\n"
      ]
    },
    {
      "cell_type": "code",
      "metadata": {
        "colab": {
          "base_uri": "https://localhost:8080/"
        },
        "id": "Ov1-lXeGq2_K",
        "outputId": "f7e59f80-3522-4d72-d644-aed503ca3fb9"
      },
      "source": [
        "abs((9-3j)/(-2-1j))"
      ],
      "execution_count": 12,
      "outputs": [
        {
          "output_type": "execute_result",
          "data": {
            "text/plain": [
              "4.242640687119285"
            ]
          },
          "metadata": {
            "tags": []
          },
          "execution_count": 12
        }
      ]
    },
    {
      "cell_type": "markdown",
      "metadata": {
        "id": "7EeU8ekXq-Jt"
      },
      "source": [
        "## ### Ejercicio 10\n",
        "¿Cuál es el argumento del número complejo i?:"
      ]
    },
    {
      "cell_type": "code",
      "metadata": {
        "colab": {
          "base_uri": "https://localhost:8080/"
        },
        "id": "c3vmWS9jtbvH",
        "outputId": "46ed4c1b-4a59-4058-9c03-5e2d150adf8e"
      },
      "source": [
        "import cmath\n",
        "cmath.phase(1j)"
      ],
      "execution_count": 13,
      "outputs": [
        {
          "output_type": "execute_result",
          "data": {
            "text/plain": [
              "1.5707963267948966"
            ]
          },
          "metadata": {
            "tags": []
          },
          "execution_count": 13
        }
      ]
    }
  ]
}